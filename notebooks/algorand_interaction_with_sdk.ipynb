{
 "cells": [
  {
   "cell_type": "code",
   "execution_count": 5,
   "metadata": {},
   "outputs": [
    {
     "name": "stdout",
     "output_type": "stream",
     "text": [
      "My Public address: TNITSB33N5H7WRL7GNZNA3HZ6IF5Z2DSUOH3U2FI3UEFBQ7WWUVWJWIKEM\n",
      "My private key: 3AT1cz/nKvvRvk3VtgOsR1+QutbC2dNBjmPFOcyx2uObUTkHe29P+0V/M3LQbPnyC9zocqOPumio3QhQw/a1Kw==\n",
      "My passphrase: oppose staff rigid initial fiction learn walk ethics survey attract stock virtual camera push birth supply denial decorate range ordinary observe property burst abstract quit\n"
     ]
    }
   ],
   "source": [
    "from algosdk import account, mnemonic\n",
    "\n",
    "\n",
    "private_key, address = account.generate_account()\n",
    "print(\"My Public address: {}\".format(address))\n",
    "print(\"My private key: {}\".format(private_key))\n",
    "print(\"My passphrase: {}\".format(mnemonic.from_private_key(private_key)))"
   ]
  },
  {
   "cell_type": "code",
   "execution_count": 3,
   "metadata": {},
   "outputs": [
    {
     "name": "stdout",
     "output_type": "stream",
     "text": [
      "private key from mneminc: KL+n926aXXtn+x//1wJMaq6jmT90vPv5Ux8mAfmgtdLnnx+19tbw5y5Zn9pB4GncHqlCl9+vuD+caTvxYLx5wQ==\n"
     ]
    }
   ],
   "source": [
    "print(f'private key from mneminc: {mnemonic.to_private_key(\"topic page knock plunge robot tell swamp cable zoo area champion trade elder toy peanut round disorder exit autumn bar velvet habit noble absorb hazard\")}')"
   ]
  },
  {
   "cell_type": "code",
   "execution_count": 4,
   "metadata": {},
   "outputs": [
    {
     "name": "stdout",
     "output_type": "stream",
     "text": [
      "public key from mneminc: 46PR7NPW23YOOLSZT7NEDYDJ3QPKSQUX36X3QP44NE57CYF4PHAULZXWLM\n"
     ]
    }
   ],
   "source": [
    "print(f'public key from mneminc: {mnemonic.to_public_key(\"topic page knock plunge robot tell swamp cable zoo area champion trade elder toy peanut round disorder exit autumn bar velvet habit noble absorb hazard\")}')"
   ]
  },
  {
   "cell_type": "code",
   "execution_count": null,
   "metadata": {},
   "outputs": [],
   "source": []
  },
  {
   "cell_type": "code",
   "execution_count": 9,
   "metadata": {},
   "outputs": [
    {
     "name": "stdout",
     "output_type": "stream",
     "text": [
      "Account balance: 0 microAlgos\n",
      "\n"
     ]
    }
   ],
   "source": [
    "from algosdk.v2client import algod\n",
    "\n",
    "def first_transaction_example(private_key, my_address):\n",
    "    algod_address = \"http://localhost:4001\"\n",
    "    algod_token = \"aaaaaaaaaaaaaaaaaaaaaaaaaaaaaaaaaaaaaaaaaaaaaaaaaaaaaaaaaaaaaaaa\"\n",
    "    algod_client = algod.AlgodClient(algod_token, algod_address)\n",
    "    account_info = algod_client.account_info(my_address)\n",
    "    print(\"Account balance: {} microAlgos\".format(account_info.get('amount')) + \"\\n\")\n",
    "\n",
    "first_transaction_example(\"KL+n926aXXtn+x//1wJMaq6jmT90vPv5Ux8mAfmgtdLnnx+19tbw5y5Zn9pB4GncHqlCl9+vuD+caTvxYLx5wQ==\",\"46PR7NPW23YOOLSZT7NEDYDJ3QPKSQUX36X3QP44NE57CYF4PHAULZXWLM\")"
   ]
  },
  {
   "cell_type": "code",
   "execution_count": null,
   "metadata": {},
   "outputs": [],
   "source": []
  },
  {
   "cell_type": "code",
   "execution_count": 11,
   "metadata": {},
   "outputs": [
    {
     "name": "stdout",
     "output_type": "stream",
     "text": [
      "Account 1\n",
      "K7R44MZSI65NFBXU5WLMGWQIGBZTTDIRZS5AXVUX5FRES4NZIYMM2H5FGU\n",
      "Account 2\n",
      "72MYXLR7QZVQYEOQKYYZUCALR2QKPFKY6APUF3PGMUFLT3AYNTT4OFCTUE\n",
      "mnemonic1 = \"infant frame sense agree foster sugar auction satisfy fly chaos crew fruit tornado shy wrap humble rally boil girl school tourist federal inhale ability wine\"\n",
      "mnemonic2 = \"bracket ship fluid latin already drop almost urge danger flight later power ankle merge mom stay salmon unable security doll faculty spoil awkward abstract mystery\"\n"
     ]
    }
   ],
   "source": [
    "import json\n",
    "from algosdk import account, mnemonic\n",
    "\n",
    "accnt = account.generate_account()\n",
    "addr1 = accnt[1]\n",
    "print(\"Account 1\")\n",
    "print(addr1)\n",
    "mnemonic1 = mnemonic.from_private_key(accnt[0])\n",
    "\n",
    "print(\"Account 2\")\n",
    "accnt = account.generate_account()\n",
    "addr2 = accnt[1]\n",
    "print(addr2)\n",
    "mnemonic2 = mnemonic.from_private_key(accnt[0])\n",
    "\n",
    "print(\"mnemonic1 = \\\"{}\\\"\".format(mnemonic1))\n",
    "print(\"mnemonic2 = \\\"{}\\\"\".format(mnemonic2))"
   ]
  },
  {
   "cell_type": "code",
   "execution_count": 13,
   "metadata": {},
   "outputs": [
    {
     "name": "stdout",
     "output_type": "stream",
     "text": [
      "Account balance: 0 microAlgos\n",
      "\n",
      "{\n",
      "  \"address\": \"K7R44MZSI65NFBXU5WLMGWQIGBZTTDIRZS5AXVUX5FRES4NZIYMM2H5FGU\",\n",
      "  \"amount\": 0,\n",
      "  \"amount-without-pending-rewards\": 0,\n",
      "  \"apps-local-state\": [],\n",
      "  \"apps-total-schema\": {\n",
      "    \"num-byte-slice\": 0,\n",
      "    \"num-uint\": 0\n",
      "  },\n",
      "  \"assets\": [],\n",
      "  \"created-apps\": [],\n",
      "  \"created-assets\": [],\n",
      "  \"min-balance\": 100000,\n",
      "  \"pending-rewards\": 0,\n",
      "  \"reward-base\": 138,\n",
      "  \"rewards\": 0,\n",
      "  \"round\": 5527,\n",
      "  \"status\": \"Offline\",\n",
      "  \"total-apps-opted-in\": 0,\n",
      "  \"total-assets-opted-in\": 0,\n",
      "  \"total-created-apps\": 0,\n",
      "  \"total-created-assets\": 0\n",
      "}\n"
     ]
    }
   ],
   "source": [
    "from algosdk.v2client import algod\n",
    "\n",
    "def first_transaction_example(private_key, my_address):\n",
    "    algod_address = \"http://localhost:4001\"\n",
    "    algod_token = \"aaaaaaaaaaaaaaaaaaaaaaaaaaaaaaaaaaaaaaaaaaaaaaaaaaaaaaaaaaaaaaaa\"\n",
    "    algod_client = algod.AlgodClient(algod_token, algod_address)\n",
    "    account_info = algod_client.account_info(my_address)\n",
    "    print(\"Account balance: {} microAlgos\".format(account_info.get('amount')) + \"\\n\")\n",
    "    print(json.dumps(account_info, indent=2))\n",
    "\n",
    "first_transaction_example(accnt[0],addr1)\n"
   ]
  },
  {
   "cell_type": "code",
   "execution_count": 14,
   "metadata": {},
   "outputs": [
    {
     "name": "stdout",
     "output_type": "stream",
     "text": [
      "Account balance: 0 microAlgos\n",
      "\n",
      "{\n",
      "  \"address\": \"72MYXLR7QZVQYEOQKYYZUCALR2QKPFKY6APUF3PGMUFLT3AYNTT4OFCTUE\",\n",
      "  \"amount\": 0,\n",
      "  \"amount-without-pending-rewards\": 0,\n",
      "  \"apps-local-state\": [],\n",
      "  \"apps-total-schema\": {\n",
      "    \"num-byte-slice\": 0,\n",
      "    \"num-uint\": 0\n",
      "  },\n",
      "  \"assets\": [],\n",
      "  \"created-apps\": [],\n",
      "  \"created-assets\": [],\n",
      "  \"min-balance\": 100000,\n",
      "  \"pending-rewards\": 0,\n",
      "  \"reward-base\": 139,\n",
      "  \"rewards\": 0,\n",
      "  \"round\": 5593,\n",
      "  \"status\": \"Offline\",\n",
      "  \"total-apps-opted-in\": 0,\n",
      "  \"total-assets-opted-in\": 0,\n",
      "  \"total-created-apps\": 0,\n",
      "  \"total-created-assets\": 0\n",
      "}\n"
     ]
    }
   ],
   "source": [
    "from algosdk.v2client import algod\n",
    "\n",
    "def first_transaction_example(private_key, my_address):\n",
    "    algod_address = \"http://localhost:4001\"\n",
    "    algod_token = \"aaaaaaaaaaaaaaaaaaaaaaaaaaaaaaaaaaaaaaaaaaaaaaaaaaaaaaaaaaaaaaaa\"\n",
    "    algod_client = algod.AlgodClient(algod_token, algod_address)\n",
    "    account_info = algod_client.account_info(my_address)\n",
    "    print(\"Account balance: {} microAlgos\".format(account_info.get('amount')) + \"\\n\")\n",
    "    print(json.dumps(account_info, indent=2))\n",
    "\n",
    "first_transaction_example(accnt[0],addr2)\n"
   ]
  },
  {
   "cell_type": "markdown",
   "metadata": {},
   "source": [
    "Trying with purestake"
   ]
  },
  {
   "cell_type": "code",
   "execution_count": 9,
   "metadata": {},
   "outputs": [],
   "source": [
    "from algosdk import account\n",
    "import sys,os\n",
    "#from config import *\n",
    "api_key='api-key'\n",
    "test_net_url = 'https://testnet-algorand.api.purestake.io/idx2'"
   ]
  },
  {
   "cell_type": "code",
   "execution_count": 6,
   "metadata": {},
   "outputs": [
    {
     "name": "stdout",
     "output_type": "stream",
     "text": [
      "My Public address: QE4BIJ3BZBZH6DXA45MPJLMBSN4TZJ6SACFA6WJL77RTPIYOKT776KCNGY\n",
      "My private key: bo15mbXra0TVcaeBPN6xZOtckjuuxmJKsqLjaqRPn7CBOBQnYchyfw7g51j0rYGTeTyn0gCKD1kr/+M3ow5U/w==\n",
      "My passphrase: punch tower smile robust style extra modify polar mother jump flight rent right tonight impact shop era since spend purchase emotion stadium lumber absent barrel\n"
     ]
    }
   ],
   "source": [
    "private_key, pub_address = account.generate_account()\n",
    "print(\"My Public address: {}\".format(pub_address))\n",
    "print(\"My private key: {}\".format(private_key))\n",
    "print(\"My passphrase: {}\".format(mnemonic.from_private_key(private_key)))"
   ]
  },
  {
   "cell_type": "code",
   "execution_count": 7,
   "metadata": {},
   "outputs": [
    {
     "name": "stdout",
     "output_type": "stream",
     "text": [
      "Account 1\n",
      "XR7ZOU25MS5XOZSM5237TCK7BBZXJYVQFJXULQ4X3UJ3G3URQRQ7GAHXRY\n",
      "Account 2\n",
      "OMYKZ76HXLYDE6GXVAQRR6MZTSQCFH2JIRVWYPXNQJK5VRTTL3DGAMGGYI\n",
      "mnemonic1 = \"virtual innocent problem illness happy advice please fit domain senior need suggest poet seminar state rival hen increase apple praise soon purchase bulb abstract flush\"\n",
      "mnemonic2 = \"spin steak female believe dash fatal pitch print pink express taste kingdom cook neglect faculty trim garbage wife quote crumble cake rail payment absent select\"\n"
     ]
    }
   ],
   "source": [
    "import json\n",
    "from algosdk import account, mnemonic\n",
    "\n",
    "accnt = account.generate_account()\n",
    "addr1 = accnt[1]\n",
    "print(\"Account 1\")\n",
    "print(addr1)\n",
    "mnemonic1 = mnemonic.from_private_key(accnt[0])\n",
    "\n",
    "print(\"Account 2\")\n",
    "accnt = account.generate_account()\n",
    "addr2 = accnt[1]\n",
    "print(addr2)\n",
    "mnemonic2 = mnemonic.from_private_key(accnt[0])\n",
    "\n",
    "print(\"mnemonic1 = \\\"{}\\\"\".format(mnemonic1))\n",
    "print(\"mnemonic2 = \\\"{}\\\"\".format(mnemonic2))"
   ]
  },
  {
   "cell_type": "code",
   "execution_count": 10,
   "metadata": {},
   "outputs": [
    {
     "name": "stdout",
     "output_type": "stream",
     "text": [
      "Account balance: 5000000 microAlgos\n",
      "\n",
      "{\n",
      "  \"account\": {\n",
      "    \"address\": \"OMYKZ76HXLYDE6GXVAQRR6MZTSQCFH2JIRVWYPXNQJK5VRTTL3DGAMGGYI\",\n",
      "    \"amount\": 5000000,\n",
      "    \"amount-without-pending-rewards\": 5000000,\n",
      "    \"created-at-round\": 24432431,\n",
      "    \"deleted\": false,\n",
      "    \"pending-rewards\": 0,\n",
      "    \"reward-base\": 27521,\n",
      "    \"rewards\": 0,\n",
      "    \"round\": 24432455,\n",
      "    \"status\": \"Offline\",\n",
      "    \"total-apps-opted-in\": 0,\n",
      "    \"total-assets-opted-in\": 0,\n",
      "    \"total-created-apps\": 0,\n",
      "    \"total-created-assets\": 0\n",
      "  },\n",
      "  \"current-round\": 24432455\n",
      "}\n"
     ]
    }
   ],
   "source": [
    "from algosdk.v2client import algod\n",
    "\n",
    "def first_transaction_example(private_key, my_address):\n",
    "    headers = {\"X-API-Key\": api_key }\n",
    "    algod_client = algod.AlgodClient(api_key, test_net_url, headers=headers)\n",
    "    \n",
    "    # print(algod_client)\n",
    "    account_info = algod_client.account_info(my_address)\n",
    "    print(\"Account balance: {} microAlgos\".format(account_info.get('account').get('amount')) + \"\\n\")\n",
    "    print(json.dumps(account_info, indent=2))\n",
    "\n",
    "first_transaction_example(accnt[0],addr2)"
   ]
  },
  {
   "cell_type": "code",
   "execution_count": 15,
   "metadata": {},
   "outputs": [
    {
     "name": "stdout",
     "output_type": "stream",
     "text": [
      "Signed transaction with txID: IBWSCGVTR6AVG2FBVH7D2DN2KDLLQ7MGQWKRIED2KTSVJYYTYIXA\n",
      "Waiting for confirmation\n",
      "Transaction confirmed in round 24432649\n",
      "Starting Account balance: 14967000 microAlgos\n",
      "Amount transfered: 10000 microAlgos\n",
      "Fee: 0 microAlgos\n",
      "Final Account balance: 14967000 microAlgos\n",
      "\n"
     ]
    }
   ],
   "source": [
    "import json\n",
    "import base64\n",
    "from algosdk import account, mnemonic, constants\n",
    "from algosdk.v2client import algod\n",
    "from algosdk import transaction\n",
    "\n",
    "def first_transaction_example(private_key, my_address):\n",
    "    headers = {\"X-API-Key\": api_key }\n",
    "    algod_client = algod.AlgodClient(api_key, \"https://testnet-algorand.api.purestake.io/ps2\", headers=headers)\n",
    "    \n",
    "    # build transaction\n",
    "    params = algod_client.suggested_params()  \n",
    "\n",
    "    gh = params.gh  \n",
    "    first_valid_round = params.first  \n",
    "    last_valid_round = params.last  \n",
    "    fee = params.min_fee  \n",
    "    send_amount = 10000\n",
    "    note = \"Hello World\".encode() \n",
    "    send_to_address = 'XR7ZOU25MS5XOZSM5237TCK7BBZXJYVQFJXULQ4X3UJ3G3URQRQ7GAHXRY'\n",
    "\n",
    "    # unsigned_txn = transaction.PaymentTxn(my_address, params, receiver, amount, None, note)\n",
    "    unsigned_txn = transaction.PaymentTxn(my_address, fee, first_valid_round, last_valid_round, gh, send_to_address, send_amount, flat_fee=True)\n",
    "\n",
    "    \n",
    "\n",
    "    # sign transaction\n",
    "    signed_txn = unsigned_txn.sign(private_key)\n",
    "\n",
    "    # submit transaction\n",
    "    txid = algod_client.send_transaction(signed_txn)\n",
    "    print(\"Signed transaction with txID: {}\".format(txid))\n",
    "     # wait for confirmation \n",
    "\n",
    "    def wait_for_confirmation(client, txid):\n",
    "        last_round = client.status().get('last-round')\n",
    "        txinfo = client.pending_transaction_info(txid)\n",
    "        while not (txinfo.get('confirmed-round') and txinfo.get('confirmed-round') > 0):\n",
    "            print('Waiting for confirmation')\n",
    "            last_round += 1\n",
    "            client.status_after_block(last_round)\n",
    "            txinfo = client.pending_transaction_info(txid)\n",
    "        print('Transaction confirmed in round', txinfo.get('confirmed-round'))\n",
    "        return txinfo\n",
    "\n",
    "    try:\n",
    "        wait_for_confirmation(algod_client, txid=signed_txn.transaction.get_txid())  \n",
    "    except Exception as err:\n",
    "        print(err)\n",
    "        return\n",
    "    \n",
    "    account_info = algod_client.account_info(my_address)\n",
    "    print(\"Starting Account balance: {} microAlgos\".format(account_info.get('amount')) )\n",
    "    print(\"Amount transfered: {} microAlgos\".format(send_amount) )    \n",
    "    print(\"Fee: {} microAlgos\".format(params.fee) ) \n",
    "    account_info = algod_client.account_info(my_address)\n",
    "    print(\"Final Account balance: {} microAlgos\".format(account_info.get('amount')) + \"\\n\")\n",
    "\n",
    "\n",
    "\n",
    "# replace private_key and my_address with your private key and your address.\n",
    "first_transaction_example(accnt[0],addr2)\n"
   ]
  },
  {
   "cell_type": "code",
   "execution_count": 16,
   "metadata": {},
   "outputs": [
    {
     "name": "stdout",
     "output_type": "stream",
     "text": [
      "Signed transaction with txID: DSD4JI56HETRRT4RSLE4G7ZAY57TIARADTC4VEN3SZ7UDBMNZL4Q\n",
      "TXID:  DSD4JI56HETRRT4RSLE4G7ZAY57TIARADTC4VEN3SZ7UDBMNZL4Q\n",
      "Result confirmed in round: 24432865\n",
      "Transaction information: {\n",
      "    \"asset-index\": 113517386,\n",
      "    \"confirmed-round\": 24432865,\n",
      "    \"pool-error\": \"\",\n",
      "    \"txn\": {\n",
      "        \"sig\": \"oQRN2aTC44OEJV+0sH322FfFAK+nJQQ0HD7VBjdJ2f36MR1P96ufLI4l3q/dcsfZ9bJDORbOzqphT3dbznqHDQ==\",\n",
      "        \"txn\": {\n",
      "            \"apar\": {\n",
      "                \"an\": \"tenx\",\n",
      "                \"au\": \"https://google.com\",\n",
      "                \"c\": \"OMYKZ76HXLYDE6GXVAQRR6MZTSQCFH2JIRVWYPXNQJK5VRTTL3DGAMGGYI\",\n",
      "                \"f\": \"OMYKZ76HXLYDE6GXVAQRR6MZTSQCFH2JIRVWYPXNQJK5VRTTL3DGAMGGYI\",\n",
      "                \"m\": \"OMYKZ76HXLYDE6GXVAQRR6MZTSQCFH2JIRVWYPXNQJK5VRTTL3DGAMGGYI\",\n",
      "                \"r\": \"OMYKZ76HXLYDE6GXVAQRR6MZTSQCFH2JIRVWYPXNQJK5VRTTL3DGAMGGYI\",\n",
      "                \"t\": 1,\n",
      "                \"un\": \"TENX\"\n",
      "            },\n",
      "            \"fee\": 1000,\n",
      "            \"fv\": 24432862,\n",
      "            \"gen\": \"testnet-v1.0\",\n",
      "            \"gh\": \"SGO1GKSzyE7IEPItTxCByw9x8FmnrCDexi9/cOUJOiI=\",\n",
      "            \"lv\": 24433862,\n",
      "            \"snd\": \"OMYKZ76HXLYDE6GXVAQRR6MZTSQCFH2JIRVWYPXNQJK5VRTTL3DGAMGGYI\",\n",
      "            \"type\": \"acfg\"\n",
      "        }\n",
      "    }\n",
      "}\n"
     ]
    }
   ],
   "source": [
    "import json\n",
    "import base64\n",
    "from algosdk.v2client import algod\n",
    "from algosdk import account, mnemonic\n",
    "from algosdk.future.transaction import AssetConfigTxn, AssetTransferTxn, AssetFreezeTxn\n",
    "from algosdk.future.transaction import *\n",
    "headers = {\"X-API-Key\": api_key }\n",
    "algod_client = algod.AlgodClient(api_key, \"https://testnet-algorand.api.purestake.io/ps2\", headers=headers)\n",
    "params = algod_client.suggested_params()\n",
    "txn = AssetConfigTxn(\n",
    "    sender=addr2,\n",
    "    sp=params,\n",
    "    total=1,\n",
    "    default_frozen=False,\n",
    "    unit_name=\"TENX\",\n",
    "    asset_name=\"tenx\",\n",
    "    manager=addr2,\n",
    "    reserve=addr2,\n",
    "    freeze=addr2,\n",
    "    clawback=addr2,\n",
    "    url=\"https://google.com\", \n",
    "    decimals=0)\n",
    "stxn = txn.sign(accnt[0])\n",
    "\n",
    "try:\n",
    "    txid = algod_client.send_transaction(stxn)\n",
    "    print(\"Signed transaction with txID: {}\".format(txid))\n",
    "    # Wait for the transaction to be confirmed\n",
    "    confirmed_txn = wait_for_confirmation(algod_client, txid, 4)  \n",
    "    print(\"TXID: \", txid)\n",
    "    print(\"Result confirmed in round: {}\".format(confirmed_txn['confirmed-round']))\n",
    "   \n",
    "except Exception as err:\n",
    "    print(err)\n",
    "print(\"Transaction information: {}\".format(\n",
    "    json.dumps(confirmed_txn, indent=4)))"
   ]
  },
  {
   "cell_type": "code",
   "execution_count": null,
   "metadata": {},
   "outputs": [],
   "source": []
  }
 ],
 "metadata": {
  "kernelspec": {
   "display_name": "Python 3.9.12 ('base')",
   "language": "python",
   "name": "python3"
  },
  "language_info": {
   "codemirror_mode": {
    "name": "ipython",
    "version": 3
   },
   "file_extension": ".py",
   "mimetype": "text/x-python",
   "name": "python",
   "nbconvert_exporter": "python",
   "pygments_lexer": "ipython3",
   "version": "3.9.12"
  },
  "orig_nbformat": 4,
  "vscode": {
   "interpreter": {
    "hash": "aacb89259a28c7c0780e97aa12a84378fc1fb61573d9a41964a2d270e5267b91"
   }
  }
 },
 "nbformat": 4,
 "nbformat_minor": 2
}
